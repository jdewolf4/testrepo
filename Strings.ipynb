{
    "cells": [
        {
            "cell_type": "markdown",
            "metadata": {},
            "source": "# Strings"
        },
        {
            "cell_type": "markdown",
            "metadata": {},
            "source": "Strings are immutable sequences, that is once they are assigned to some value, they can't be changed"
        },
        {
            "cell_type": "code",
            "execution_count": 12,
            "metadata": {},
            "outputs": [
                {
                    "name": "stdout",
                    "output_type": "stream",
                    "text": "word\nThis is a sentence\n\nThis is a \nmulti line sentence\n\no\nr\n"
                }
            ],
            "source": "str1 = \"word\"\nstr2 = 'This is a sentence'\nstr3 = '''\nThis is a \nmulti line sentence\n'''\n\nprint(str1)\nprint(str2)\nprint(str3)\nprint(str1[1])\nprint(str1[-2])"
        },
        {
            "cell_type": "code",
            "execution_count": 14,
            "metadata": {},
            "outputs": [
                {
                    "name": "stdout",
                    "output_type": "stream",
                    "text": "ord\nwor\nord\nrd\nente  ish\n"
                }
            ],
            "source": "#string slicing\nprint(str1[1:4])\nprint(str1[:3])\nprint(str1[1:])\nprint(str1[-2:])\nprint(str2[::-2])"
        },
        {
            "cell_type": "code",
            "execution_count": 21,
            "metadata": {},
            "outputs": [
                {
                    "name": "stdout",
                    "output_type": "stream",
                    "text": "ben oswald\n3\n"
                }
            ],
            "source": "#string concatenation \nfirst_name = 'ben'\nlast_name = 'oswald'\nfull_name = first_name + ' ' + last_name\nprint(full_name)\n\nprint(str(3))"
        },
        {
            "cell_type": "code",
            "execution_count": 17,
            "metadata": {},
            "outputs": [
                {
                    "name": "stdout",
                    "output_type": "stream",
                    "text": "['__add__', '__class__', '__contains__', '__delattr__', '__dir__', '__doc__', '__eq__', '__format__', '__ge__', '__getattribute__', '__getitem__', '__getnewargs__', '__gt__', '__hash__', '__init__', '__init_subclass__', '__iter__', '__le__', '__len__', '__lt__', '__mod__', '__mul__', '__ne__', '__new__', '__reduce__', '__reduce_ex__', '__repr__', '__rmod__', '__rmul__', '__setattr__', '__sizeof__', '__str__', '__subclasshook__', 'capitalize', 'casefold', 'center', 'count', 'encode', 'endswith', 'expandtabs', 'find', 'format', 'format_map', 'index', 'isalnum', 'isalpha', 'isascii', 'isdecimal', 'isdigit', 'isidentifier', 'islower', 'isnumeric', 'isprintable', 'isspace', 'istitle', 'isupper', 'join', 'ljust', 'lower', 'lstrip', 'maketrans', 'partition', 'removeprefix', 'removesuffix', 'replace', 'rfind', 'rindex', 'rjust', 'rpartition', 'rsplit', 'rstrip', 'split', 'splitlines', 'startswith', 'strip', 'swapcase', 'title', 'translate', 'upper', 'zfill']\n"
                }
            ],
            "source": "#string methods\nprint(dir(str))"
        },
        {
            "cell_type": "code",
            "execution_count": 33,
            "metadata": {},
            "outputs": [
                {
                    "name": "stdout",
                    "output_type": "stream",
                    "text": "Sample sentence\nSample sentence\nTrue\nFalse\nS-a-m-p-l-e- -s-e-n-t-e-n-c-e\n"
                }
            ],
            "source": "#string methods\nstr = 'Sample sentence'\nprint(str.capitalize())\nprint(str)\nprint(str.startswith('S'))\nprint(str.islower())\nprint(\"-\".join(str))"
        },
        {
            "cell_type": "markdown",
            "metadata": {},
            "source": "For more on methods, refer to https://docs.python.org/3/library/stdtypes.html#string-methods"
        },
        {
            "cell_type": "code",
            "execution_count": null,
            "metadata": {},
            "outputs": [],
            "source": ""
        }
    ],
    "metadata": {
        "kernelspec": {
            "display_name": "Python 3",
            "language": "python",
            "name": "python3"
        },
        "language_info": {
            "codemirror_mode": {
                "name": "ipython",
                "version": 3
            },
            "file_extension": ".py",
            "mimetype": "text/x-python",
            "name": "python",
            "nbconvert_exporter": "python",
            "pygments_lexer": "ipython3",
            "version": "3.8.5"
        }
    },
    "nbformat": 4,
    "nbformat_minor": 4
}